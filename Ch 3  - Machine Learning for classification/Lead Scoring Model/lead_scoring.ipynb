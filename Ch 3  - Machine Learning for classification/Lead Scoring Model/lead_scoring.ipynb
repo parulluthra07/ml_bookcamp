{
 "cells": [
  {
   "cell_type": "code",
   "execution_count": null,
   "metadata": {},
   "outputs": [],
   "source": [
    "Work on this next: https://www.kaggle.com/datasets/ashydv/leads-dataset\n",
    "\n"
   ]
  }
 ],
 "metadata": {
  "language_info": {
   "name": "python"
  },
  "orig_nbformat": 4
 },
 "nbformat": 4,
 "nbformat_minor": 2
}
